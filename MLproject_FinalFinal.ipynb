{
  "nbformat": 4,
  "nbformat_minor": 0,
  "metadata": {
    "colab": {
      "provenance": [],
      "gpuType": "T4"
    },
    "kernelspec": {
      "name": "python3",
      "display_name": "Python 3"
    },
    "language_info": {
      "name": "python"
    },
    "widgets": {
      "application/vnd.jupyter.widget-state+json": {
        "f0da546d0d3649728b2e8dcdfc9d2f59": {
          "model_module": "@jupyter-widgets/controls",
          "model_name": "VBoxModel",
          "model_module_version": "1.5.0",
          "state": {
            "_dom_classes": [
              "widget-interact"
            ],
            "_model_module": "@jupyter-widgets/controls",
            "_model_module_version": "1.5.0",
            "_model_name": "VBoxModel",
            "_view_count": null,
            "_view_module": "@jupyter-widgets/controls",
            "_view_module_version": "1.5.0",
            "_view_name": "VBoxView",
            "box_style": "",
            "children": [
              "IPY_MODEL_37d9459e022d43a388179707e865dd68",
              "IPY_MODEL_4301d1a5d7e14e08ab52c8054ff22eba",
              "IPY_MODEL_b0f2be16ed6f40c2b500e1926646d1c3"
            ],
            "layout": "IPY_MODEL_ade78dd1f27d41108f70e5921c227227"
          }
        },
        "37d9459e022d43a388179707e865dd68": {
          "model_module": "@jupyter-widgets/controls",
          "model_name": "IntSliderModel",
          "model_module_version": "1.5.0",
          "state": {
            "_dom_classes": [],
            "_model_module": "@jupyter-widgets/controls",
            "_model_module_version": "1.5.0",
            "_model_name": "IntSliderModel",
            "_view_count": null,
            "_view_module": "@jupyter-widgets/controls",
            "_view_module_version": "1.5.0",
            "_view_name": "IntSliderView",
            "continuous_update": true,
            "description": "x",
            "description_tooltip": null,
            "disabled": false,
            "layout": "IPY_MODEL_3f5f3f0f645d4809b32340355269e809",
            "max": 224,
            "min": 0,
            "orientation": "horizontal",
            "readout": true,
            "readout_format": "d",
            "step": 1,
            "style": "IPY_MODEL_0e336ac2fb5e44198fd88a5b7222056c",
            "value": 0
          }
        },
        "4301d1a5d7e14e08ab52c8054ff22eba": {
          "model_module": "@jupyter-widgets/controls",
          "model_name": "IntSliderModel",
          "model_module_version": "1.5.0",
          "state": {
            "_dom_classes": [],
            "_model_module": "@jupyter-widgets/controls",
            "_model_module_version": "1.5.0",
            "_model_name": "IntSliderModel",
            "_view_count": null,
            "_view_module": "@jupyter-widgets/controls",
            "_view_module_version": "1.5.0",
            "_view_name": "IntSliderView",
            "continuous_update": true,
            "description": "y",
            "description_tooltip": null,
            "disabled": false,
            "layout": "IPY_MODEL_f7a4ab2594eb42d9ab76c104822ad92f",
            "max": 224,
            "min": 0,
            "orientation": "horizontal",
            "readout": true,
            "readout_format": "d",
            "step": 1,
            "style": "IPY_MODEL_8a2fdd20feea446eb5bea654588bd682",
            "value": 0
          }
        },
        "b0f2be16ed6f40c2b500e1926646d1c3": {
          "model_module": "@jupyter-widgets/output",
          "model_name": "OutputModel",
          "model_module_version": "1.0.0",
          "state": {
            "_dom_classes": [],
            "_model_module": "@jupyter-widgets/output",
            "_model_module_version": "1.0.0",
            "_model_name": "OutputModel",
            "_view_count": null,
            "_view_module": "@jupyter-widgets/output",
            "_view_module_version": "1.0.0",
            "_view_name": "OutputView",
            "layout": "IPY_MODEL_9e24977b90c74623bede924998d7082d",
            "msg_id": "",
            "outputs": [
              {
                "output_type": "stream",
                "name": "stdout",
                "text": [
                  "Selected coordinates: x=0, y=0\n",
                  "Original RGB value at (0, 0): [255   0   0]\n",
                  "The detected color is: Candy Apple Red\n"
                ]
              },
              {
                "output_type": "stream",
                "name": "stderr",
                "text": [
                  "/usr/local/lib/python3.10/dist-packages/sklearn/base.py:493: UserWarning: X does not have valid feature names, but MinMaxScaler was fitted with feature names\n",
                  "  warnings.warn(\n"
                ]
              }
            ]
          }
        },
        "ade78dd1f27d41108f70e5921c227227": {
          "model_module": "@jupyter-widgets/base",
          "model_name": "LayoutModel",
          "model_module_version": "1.2.0",
          "state": {
            "_model_module": "@jupyter-widgets/base",
            "_model_module_version": "1.2.0",
            "_model_name": "LayoutModel",
            "_view_count": null,
            "_view_module": "@jupyter-widgets/base",
            "_view_module_version": "1.2.0",
            "_view_name": "LayoutView",
            "align_content": null,
            "align_items": null,
            "align_self": null,
            "border": null,
            "bottom": null,
            "display": null,
            "flex": null,
            "flex_flow": null,
            "grid_area": null,
            "grid_auto_columns": null,
            "grid_auto_flow": null,
            "grid_auto_rows": null,
            "grid_column": null,
            "grid_gap": null,
            "grid_row": null,
            "grid_template_areas": null,
            "grid_template_columns": null,
            "grid_template_rows": null,
            "height": null,
            "justify_content": null,
            "justify_items": null,
            "left": null,
            "margin": null,
            "max_height": null,
            "max_width": null,
            "min_height": null,
            "min_width": null,
            "object_fit": null,
            "object_position": null,
            "order": null,
            "overflow": null,
            "overflow_x": null,
            "overflow_y": null,
            "padding": null,
            "right": null,
            "top": null,
            "visibility": null,
            "width": null
          }
        },
        "3f5f3f0f645d4809b32340355269e809": {
          "model_module": "@jupyter-widgets/base",
          "model_name": "LayoutModel",
          "model_module_version": "1.2.0",
          "state": {
            "_model_module": "@jupyter-widgets/base",
            "_model_module_version": "1.2.0",
            "_model_name": "LayoutModel",
            "_view_count": null,
            "_view_module": "@jupyter-widgets/base",
            "_view_module_version": "1.2.0",
            "_view_name": "LayoutView",
            "align_content": null,
            "align_items": null,
            "align_self": null,
            "border": null,
            "bottom": null,
            "display": null,
            "flex": null,
            "flex_flow": null,
            "grid_area": null,
            "grid_auto_columns": null,
            "grid_auto_flow": null,
            "grid_auto_rows": null,
            "grid_column": null,
            "grid_gap": null,
            "grid_row": null,
            "grid_template_areas": null,
            "grid_template_columns": null,
            "grid_template_rows": null,
            "height": null,
            "justify_content": null,
            "justify_items": null,
            "left": null,
            "margin": null,
            "max_height": null,
            "max_width": null,
            "min_height": null,
            "min_width": null,
            "object_fit": null,
            "object_position": null,
            "order": null,
            "overflow": null,
            "overflow_x": null,
            "overflow_y": null,
            "padding": null,
            "right": null,
            "top": null,
            "visibility": null,
            "width": null
          }
        },
        "0e336ac2fb5e44198fd88a5b7222056c": {
          "model_module": "@jupyter-widgets/controls",
          "model_name": "SliderStyleModel",
          "model_module_version": "1.5.0",
          "state": {
            "_model_module": "@jupyter-widgets/controls",
            "_model_module_version": "1.5.0",
            "_model_name": "SliderStyleModel",
            "_view_count": null,
            "_view_module": "@jupyter-widgets/base",
            "_view_module_version": "1.2.0",
            "_view_name": "StyleView",
            "description_width": "",
            "handle_color": null
          }
        },
        "f7a4ab2594eb42d9ab76c104822ad92f": {
          "model_module": "@jupyter-widgets/base",
          "model_name": "LayoutModel",
          "model_module_version": "1.2.0",
          "state": {
            "_model_module": "@jupyter-widgets/base",
            "_model_module_version": "1.2.0",
            "_model_name": "LayoutModel",
            "_view_count": null,
            "_view_module": "@jupyter-widgets/base",
            "_view_module_version": "1.2.0",
            "_view_name": "LayoutView",
            "align_content": null,
            "align_items": null,
            "align_self": null,
            "border": null,
            "bottom": null,
            "display": null,
            "flex": null,
            "flex_flow": null,
            "grid_area": null,
            "grid_auto_columns": null,
            "grid_auto_flow": null,
            "grid_auto_rows": null,
            "grid_column": null,
            "grid_gap": null,
            "grid_row": null,
            "grid_template_areas": null,
            "grid_template_columns": null,
            "grid_template_rows": null,
            "height": null,
            "justify_content": null,
            "justify_items": null,
            "left": null,
            "margin": null,
            "max_height": null,
            "max_width": null,
            "min_height": null,
            "min_width": null,
            "object_fit": null,
            "object_position": null,
            "order": null,
            "overflow": null,
            "overflow_x": null,
            "overflow_y": null,
            "padding": null,
            "right": null,
            "top": null,
            "visibility": null,
            "width": null
          }
        },
        "8a2fdd20feea446eb5bea654588bd682": {
          "model_module": "@jupyter-widgets/controls",
          "model_name": "SliderStyleModel",
          "model_module_version": "1.5.0",
          "state": {
            "_model_module": "@jupyter-widgets/controls",
            "_model_module_version": "1.5.0",
            "_model_name": "SliderStyleModel",
            "_view_count": null,
            "_view_module": "@jupyter-widgets/base",
            "_view_module_version": "1.2.0",
            "_view_name": "StyleView",
            "description_width": "",
            "handle_color": null
          }
        },
        "9e24977b90c74623bede924998d7082d": {
          "model_module": "@jupyter-widgets/base",
          "model_name": "LayoutModel",
          "model_module_version": "1.2.0",
          "state": {
            "_model_module": "@jupyter-widgets/base",
            "_model_module_version": "1.2.0",
            "_model_name": "LayoutModel",
            "_view_count": null,
            "_view_module": "@jupyter-widgets/base",
            "_view_module_version": "1.2.0",
            "_view_name": "LayoutView",
            "align_content": null,
            "align_items": null,
            "align_self": null,
            "border": null,
            "bottom": null,
            "display": null,
            "flex": null,
            "flex_flow": null,
            "grid_area": null,
            "grid_auto_columns": null,
            "grid_auto_flow": null,
            "grid_auto_rows": null,
            "grid_column": null,
            "grid_gap": null,
            "grid_row": null,
            "grid_template_areas": null,
            "grid_template_columns": null,
            "grid_template_rows": null,
            "height": null,
            "justify_content": null,
            "justify_items": null,
            "left": null,
            "margin": null,
            "max_height": null,
            "max_width": null,
            "min_height": null,
            "min_width": null,
            "object_fit": null,
            "object_position": null,
            "order": null,
            "overflow": null,
            "overflow_x": null,
            "overflow_y": null,
            "padding": null,
            "right": null,
            "top": null,
            "visibility": null,
            "width": null
          }
        }
      }
    },
    "accelerator": "GPU"
  },
  "cells": [
    {
      "cell_type": "code",
      "source": [
        "import cv2\n",
        "import requests\n",
        "import numpy as np\n",
        "import pandas as pd\n",
        "from PIL import Image\n",
        "from io import BytesIO\n",
        "import matplotlib.pyplot as plt\n",
        "from ipywidgets import interact\n",
        "from sklearn.preprocessing import MinMaxScaler\n",
        "from sklearn.model_selection import train_test_split\n",
        "from sklearn.neighbors import KNeighborsClassifier"
      ],
      "metadata": {
        "id": "cBgX6xK48klb"
      },
      "execution_count": 1,
      "outputs": []
    },
    {
      "cell_type": "code",
      "source": [
        "# Step 1: Prepare the dataset with RGB values and corresponding color names\n",
        "data = pd.read_csv('/content/colors_new.csv')\n",
        "\n",
        "# Create DataFrame\n",
        "df = pd.DataFrame(data)\n",
        "print(df.head())\n",
        "\n",
        "# Features (RGB values) and target labels (Color names)\n",
        "y = df['Color']\n",
        "print(y.head())\n",
        "X = df.drop('Color', axis=1)\n",
        "print(X.head())\n"
      ],
      "metadata": {
        "colab": {
          "base_uri": "https://localhost:8080/"
        },
        "id": "yAtplJz48svm",
        "outputId": "f9fccf22-9c94-4327-9d93-80c191596cef"
      },
      "execution_count": 2,
      "outputs": [
        {
          "output_type": "stream",
          "name": "stdout",
          "text": [
            "                   Color    R    G    B\n",
            "0   Air Force Blue (Raf)   93  138  168\n",
            "1  Air Force Blue (Usaf)    0   48  143\n",
            "2   Air Superiority Blue  114  160  193\n",
            "3        Alabama Crimson  163   38   56\n",
            "4             Alice Blue  240  248  255\n",
            "0     Air Force Blue (Raf)\n",
            "1    Air Force Blue (Usaf)\n",
            "2     Air Superiority Blue\n",
            "3          Alabama Crimson\n",
            "4               Alice Blue\n",
            "Name: Color, dtype: object\n",
            "     R    G    B\n",
            "0   93  138  168\n",
            "1    0   48  143\n",
            "2  114  160  193\n",
            "3  163   38   56\n",
            "4  240  248  255\n"
          ]
        }
      ]
    },
    {
      "cell_type": "code",
      "source": [
        "# Scale RGB features to [0, 1] range\n",
        "scaler = MinMaxScaler()\n",
        "X_scaled = scaler.fit_transform(X)\n",
        "print(X_scaled)"
      ],
      "metadata": {
        "colab": {
          "base_uri": "https://localhost:8080/"
        },
        "id": "x2qbSAcNgfVm",
        "outputId": "02e85d8f-7934-4ef8-f014-5d5da3b1027d"
      },
      "execution_count": 3,
      "outputs": [
        {
          "output_type": "stream",
          "name": "stdout",
          "text": [
            "[[0.36470588 0.54117647 0.65882353]\n",
            " [0.         0.18823529 0.56078431]\n",
            " [0.44705882 0.62745098 0.75686275]\n",
            " ...\n",
            " [0.99607843 0.99607843 0.2       ]\n",
            " [0.         0.07843137 0.65882353]\n",
            " [0.17254902 0.08627451 0.03137255]]\n"
          ]
        }
      ]
    },
    {
      "cell_type": "code",
      "source": [
        "#Step 2: Split data into training and testing sets\n",
        "X_train, X_test, y_train, y_test = train_test_split(X_scaled, y, test_size=0.3, random_state=42)\n",
        "knn = KNeighborsClassifier(n_neighbors=5)\n",
        "knn.fit(X_train, y_train)\n",
        "\n",
        "#print(X_test)\n",
        "y_pred=knn.predict(X_test)\n",
        "#print(y_pred)"
      ],
      "metadata": {
        "id": "2CAyaOPlI4QZ"
      },
      "execution_count": 4,
      "outputs": []
    },
    {
      "cell_type": "code",
      "source": [
        "# Step 3: Function to detect the color from a specific pixel (x, y)\n",
        "\n",
        "def detect_color_from_pixel(image, x, y):\n",
        "    # Get the RGB value at the specified (x, y) coordinates in OpenCV BGR format\n",
        "    pixel_color_bgr = image[y, x]  # Note that OpenCV uses (y, x) indexing\n",
        "    # Convert from BGR to RGB\n",
        "    pixel_color_rgb = pixel_color_bgr[::-1]\n",
        "\n",
        "    print(f\"Original RGB value at ({x}, {y}): {pixel_color_rgb}\")\n",
        "\n",
        "    # Scale the RGB value to the [0, 1] range to match the training data\n",
        "    pixel_color_scaled = scaler.transform([pixel_color_rgb])\n",
        "\n",
        "    # Use KNN to predict the color name\n",
        "    predicted_color = knn.predict(pixel_color_scaled)\n",
        "    print(f\"The detected color is: {predicted_color[0]}\")"
      ],
      "metadata": {
        "id": "Woi2imeoKKRO"
      },
      "execution_count": 5,
      "outputs": []
    },
    {
      "cell_type": "code",
      "source": [
        "\n",
        "# Step 4: Function to download and convert image from URL to OpenCV format\n",
        "def get_image_from_url(image_url):\n",
        "    try:\n",
        "        # Download the image\n",
        "        response = requests.get(image_url)\n",
        "\n",
        "        # Check if the response is OK (200)\n",
        "        if response.status_code == 200:\n",
        "            # Check if the response content is actually an image\n",
        "            content_type = response.headers['Content-Type']\n",
        "            if 'image' not in content_type:\n",
        "                print(\"Error: URL does not point to an image.\")\n",
        "                return None\n",
        "\n",
        "            # Open the image using PIL\n",
        "            img = Image.open(BytesIO(response.content))\n",
        "\n",
        "            # Convert the image to RGB format and then to a NumPy array\n",
        "            img = img.convert(\"RGB\")\n",
        "            img = np.array(img)\n",
        "\n",
        "            # Convert the image from RGB to BGR (since OpenCV uses BGR format)\n",
        "            img = cv2.cvtColor(img, cv2.COLOR_RGB2BGR)\n",
        "\n",
        "            return img\n",
        "        else:\n",
        "            print(f\"Error: Unable to load image. Status code: {response.status_code}\")\n",
        "            return None\n",
        "    except Exception as e:\n",
        "        print(f\"Error loading image from URL: {e}\")\n",
        "        return None"
      ],
      "metadata": {
        "id": "O_nduQI8KQBG"
      },
      "execution_count": 6,
      "outputs": []
    },
    {
      "cell_type": "code",
      "source": [
        "\n",
        "# Step 5: Display the image with matplotlib and allow user to input (x, y) coordinates\n",
        "def main():\n",
        "    # Provide an image URL here\n",
        "    image_url = \"https://encrypted-tbn0.gstatic.com/images?q=tbn:ANd9GcS2bNLi-cruL8teuJy-HQ5lJTloeVC_TmN6Mg&s\"\n",
        "\n",
        "    # Get the image from the URL\n",
        "    image = get_image_from_url(image_url)\n",
        "\n",
        "    if image is None:\n",
        "        print(\"Error loading image. Please check the URL.\")\n",
        "        return\n",
        "\n",
        "    # Convert image from BGR (OpenCV format) to RGB for matplotlib display\n",
        "    image_rgb = cv2.cvtColor(image, cv2.COLOR_BGR2RGB)\n",
        "\n",
        "    # Display the image using matplotlib\n",
        "    plt.imshow(image_rgb)\n",
        "    plt.title(\"Image for Color Detection\")\n",
        "    plt.grid(True)  # Display grid for easier region selection\n",
        "    plt.show()\n",
        "\n",
        "    # Step 6: Create an interactive function for user to specify x, y coordinates\n",
        "    @interact(x=(0, image.shape[1]-1), y=(0, image.shape[0]-1))\n",
        "    def select_pixel(x=0, y=0):\n",
        "        print(f\"Selected coordinates: x={x}, y={y}\")\n",
        "        detect_color_from_pixel(image, x, y)\n",
        "\n",
        "if __name__ == \"__main__\":\n",
        "    main()\n"
      ],
      "metadata": {
        "colab": {
          "base_uri": "https://localhost:8080/",
          "height": 620,
          "referenced_widgets": [
            "f0da546d0d3649728b2e8dcdfc9d2f59",
            "37d9459e022d43a388179707e865dd68",
            "4301d1a5d7e14e08ab52c8054ff22eba",
            "b0f2be16ed6f40c2b500e1926646d1c3",
            "ade78dd1f27d41108f70e5921c227227",
            "3f5f3f0f645d4809b32340355269e809",
            "0e336ac2fb5e44198fd88a5b7222056c",
            "f7a4ab2594eb42d9ab76c104822ad92f",
            "8a2fdd20feea446eb5bea654588bd682",
            "9e24977b90c74623bede924998d7082d"
          ]
        },
        "id": "cbKJR4dwLbvu",
        "outputId": "756cd1ae-4a07-40b2-d4ac-7a864ce0a147"
      },
      "execution_count": 8,
      "outputs": [
        {
          "output_type": "display_data",
          "data": {
            "text/plain": [
              "<Figure size 640x480 with 1 Axes>"
            ],
            "image/png": "[encoded data removed]"
          },
          "metadata": {}
        },
        {
          "output_type": "display_data",
          "data": {
            "text/plain": [
              "interactive(children=(IntSlider(value=0, description='x', max=224), IntSlider(value=0, description='y', max=22…"
            ],
            "application/vnd.jupyter.widget-view+json": {
              "version_major": 2,
              "version_minor": 0,
              "model_id": "f0da546d0d3649728b2e8dcdfc9d2f59"
            }
          },
          "metadata": {}
        }
      ]
    }
  ]
}