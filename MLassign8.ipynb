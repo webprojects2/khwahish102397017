{
  "nbformat": 4,
  "nbformat_minor": 0,
  "metadata": {
    "colab": {
      "provenance": []
    },
    "kernelspec": {
      "name": "python3",
      "display_name": "Python 3"
    },
    "language_info": {
      "name": "python"
    }
  },
  "cells": [
    {
      "cell_type": "code",
      "execution_count": null,
      "metadata": {
        "id": "Uqn9w2VyOPYs"
      },
      "outputs": [],
      "source": [
        "import pandas as pd\n",
        "from mlxtend.frequent_patterns import apriori\n",
        "from mlxtend.preprocessing import TransactionEncoder\n",
        "import requests\n",
        "\n",
        "dataset_url = \"https://www.philippe-fournier-viger.com/spmf/datasets/retail.txt\"\n",
        "data = requests.get(dataset_url).text.splitlines()\n",
        "transactions = [line.split() for line in data]\n",
        "\n",
        "te = TransactionEncoder()\n",
        "te_ary = te.fit(transactions).transform(transactions)\n",
        "df = pd.DataFrame(te_ary, columns=te.columns_)\n",
        "\n",
        "min_support_values = [0.01, 0.02, 0.03]\n",
        "frequent_patterns = {}\n",
        "\n",
        "for min_support in min_support_values:\n",
        "    frequent_patterns[min_support] = apriori(df, min_support=min_support, use_colnames=True)\n",
        "    print(f\"Frequent Patterns for min_support = {min_support}:\")\n",
        "    print(frequent_patterns[min_support])\n"
      ]
    },
    {
      "cell_type": "code",
      "source": [
        "import pandas as pd\n",
        "from mlxtend.frequent_patterns import apriori\n",
        "from itertools import combinations\n",
        "\n",
        "chosen_support = 0.01\n",
        "frequent_itemsets = apriori(df, min_support=chosen_support, use_colnames=True)\n",
        "\n",
        "min_confidence_values = [0.5, 0.6, 0.7]\n",
        "association_rules_by_confidence = {}\n",
        "\n",
        "for min_conf in min_confidence_values:\n",
        "    rules = []\n",
        "    for _, row in frequent_itemsets.iterrows():\n",
        "        itemset = set(row['itemsets'])\n",
        "        for item in itemset:\n",
        "            antecedent = frozenset([item])\n",
        "            consequent = itemset - antecedent\n",
        "            if consequent:\n",
        "                antecedent_support = frequent_itemsets[\n",
        "                    frequent_itemsets['itemsets'] == antecedent\n",
        "                ]['support'].values[0]\n",
        "                rule_confidence = row['support'] / antecedent_support\n",
        "                if rule_confidence >= min_conf:\n",
        "                    rules.append({\n",
        "                        'antecedent': antecedent,\n",
        "                        'consequent': consequent,\n",
        "                        'support': row['support'],\n",
        "                        'confidence': rule_confidence\n",
        "                    })\n",
        "    association_rules_by_confidence[min_conf] = pd.DataFrame(rules)\n",
        "\n",
        "for min_conf, rules_df in association_rules_by_confidence.items():\n",
        "    print(f\"\\nAssociation Rules for min_confidence = {min_conf}:\")\n",
        "    print(rules_df)\n"
      ],
      "metadata": {
        "id": "z00vluUpQBeG"
      },
      "execution_count": null,
      "outputs": []
    },
    {
      "cell_type": "code",
      "source": [
        "import matplotlib.pyplot as plt\n",
        "\n",
        "support_counts = [len(frequent_patterns[support]) for support in min_support_values]\n",
        "plt.figure(figsize=(10, 5))\n",
        "plt.plot(min_support_values, support_counts, marker='o', color='b', label=\"Frequent Patterns\")\n",
        "plt.xlabel(\"Minimum Support\")\n",
        "plt.ylabel(\"Number of Frequent Patterns\")\n",
        "plt.title(\"Frequent Patterns vs. Minimum Support\")\n",
        "plt.legend()\n",
        "plt.show()\n",
        "\n",
        "conf_rule_counts = [\n",
        "    len(association_rules_by_confidence[conf]) if conf in association_rules_by_confidence else 0\n",
        "    for conf in min_confidence_values\n",
        "]\n",
        "plt.figure(figsize=(10, 5))\n",
        "plt.plot(min_confidence_values, conf_rule_counts, marker='o', color='r', label=\"Association Rules\")\n",
        "plt.xlabel(\"Minimum Confidence\")\n",
        "plt.ylabel(\"Number of Association Rules\")\n",
        "plt.title(\"Association Rules vs. Minimum Confidence\")\n",
        "plt.legend()\n",
        "plt.show()\n"
      ],
      "metadata": {
        "id": "jNwcfNEyRbop"
      },
      "execution_count": null,
      "outputs": []
    }
  ]
}